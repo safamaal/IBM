{
    "cells": [
        {
            "metadata": {},
            "cell_type": "markdown",
            "source": "# My jupyter notebook on IBM Watson Studio"
        },
        {
            "metadata": {},
            "cell_type": "markdown",
            "source": "**Safa Mahdi Aljabore**\n\nDesired occupation: Renewable energy systems engineer"
        },
        {
            "metadata": {},
            "cell_type": "markdown",
            "source": "*Interested in datascience to handle and analyse data related to energy system analysis. The tools that I have learned in this course will be of great use when I want to perform my tasks in the future.*"
        },
        {
            "metadata": {},
            "cell_type": "markdown",
            "source": "### Function that returns x^2 + y^2 for a given x and y."
        },
        {
            "metadata": {},
            "cell_type": "code",
            "source": "def func(a,b):\n    return a**2+b**2\n\nprint (func(5, 4))",
            "execution_count": 9,
            "outputs": [
                {
                    "output_type": "stream",
                    "text": "41\n",
                    "name": "stdout"
                }
            ]
        },
        {
            "metadata": {},
            "cell_type": "markdown",
            "source": "**The equation is valid for:** \n* Positive numbers of x and y\n* Negative numbers of x and y\n\n***\n\n*The following table shows outputs to some inputs.*\n\n\n| x | y  | Output |\n|-: |:-: | :-     |\n| 1 | 1  |  2     |\n| 2 | 3  |  13    |\n| 5 | 4  |  41    |\n\n***\n\n**This notebook has done the following**\n1. Given an introduction to the editor\n2. Made a simple code of a mathematical function\n3. Summurized the findings\n"
        },
        {
            "metadata": {},
            "cell_type": "code",
            "source": "",
            "execution_count": null,
            "outputs": []
        }
    ],
    "metadata": {
        "kernelspec": {
            "name": "python3",
            "display_name": "Python 3.9",
            "language": "python"
        },
        "language_info": {
            "name": "python",
            "version": "3.9.12",
            "mimetype": "text/x-python",
            "codemirror_mode": {
                "name": "ipython",
                "version": 3
            },
            "pygments_lexer": "ipython3",
            "nbconvert_exporter": "python",
            "file_extension": ".py"
        }
    },
    "nbformat": 4,
    "nbformat_minor": 1
}